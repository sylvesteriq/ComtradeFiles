{
 "cells": [
  {
   "cell_type": "code",
   "execution_count": 2,
   "metadata": {},
   "outputs": [
    {
     "data": {
      "text/plain": [
       "[2.3804761428476167, 3.109126351029605, 3.8729833462074175, 4.654746681256314]"
      ]
     },
     "execution_count": 2,
     "metadata": {},
     "output_type": "execute_result"
    }
   ],
   "source": [
    "#Test the compute_v_park method in the Utilities class\n",
    "from utilities import Utilities\n",
    "\n",
    "v_p = Utilities.compute_v_park([1,2,3,4],[4,5,6,7])\n",
    "v_p"
   ]
  },
  {
   "cell_type": "code",
   "execution_count": 4,
   "metadata": {},
   "outputs": [
    {
     "data": {
      "text/plain": [
       "(      timestamp  voltage_values_rms\n",
       " 0      0.000000            7.808252\n",
       " 1      0.009999           22.877678\n",
       " 2      0.019999           47.993107\n",
       " 3      0.029999           62.641121\n",
       " 4      0.039999           54.780087\n",
       " ...         ...                 ...\n",
       " 2396  23.959999           60.019657\n",
       " 2397  23.969999           59.890636\n",
       " 2398  23.980000           39.517132\n",
       " 2399  23.990000           15.650855\n",
       " 2400  24.000000            7.809928\n",
       " \n",
       " [2401 rows x 2 columns],\n",
       "        timestamp  voltage_values_instantaneous\n",
       " 0       0.000000                     32.259571\n",
       " 1       0.000066                     32.515736\n",
       " 2       0.000132                     33.128807\n",
       " 3       0.000198                     33.344673\n",
       " 4       0.000264                     33.741875\n",
       " ...          ...                           ...\n",
       " 45452   2.999832                     31.131290\n",
       " 45453   2.999898                     31.542883\n",
       " 45454   2.999964                     31.899788\n",
       " 45455   3.000030                     32.400604\n",
       " 45456   3.000096                     32.740238\n",
       " \n",
       " [45457 rows x 2 columns])"
      ]
     },
     "execution_count": 4,
     "metadata": {},
     "output_type": "execute_result"
    }
   ],
   "source": [
    "from utilities import Utilities\n",
    "\n",
    "## A test that summarize_comtrade_files correctly returns two dataframes with only timestamp and voltage values\n",
    "x,y = Utilities.summarize_comtrade_files(\"SSu_trigger_data/Second/Triggered_file_RMS_ascii\",\"SSu_trigger_data/Second/Triggered_file_instantaneous_ascii\")\n",
    "\n",
    "x,y"
   ]
  },
  {
   "cell_type": "code",
   "execution_count": 5,
   "metadata": {},
   "outputs": [
    {
     "ename": "TypeError",
     "evalue": "make_plot() takes 5 positional arguments but 6 were given",
     "output_type": "error",
     "traceback": [
      "\u001b[1;31m---------------------------------------------------------------------------\u001b[0m",
      "\u001b[1;31mTypeError\u001b[0m                                 Traceback (most recent call last)",
      "\u001b[1;32m~\\AppData\\Local\\Temp\\ipykernel_22524\\3879614189.py\u001b[0m in \u001b[0;36m<module>\u001b[1;34m\u001b[0m\n\u001b[0;32m      1\u001b[0m \u001b[1;32mfrom\u001b[0m \u001b[0mutilities\u001b[0m \u001b[1;32mimport\u001b[0m \u001b[0mUtilities\u001b[0m\u001b[1;33m\u001b[0m\u001b[1;33m\u001b[0m\u001b[0m\n\u001b[0;32m      2\u001b[0m \u001b[1;33m\u001b[0m\u001b[0m\n\u001b[1;32m----> 3\u001b[1;33m \u001b[0mUtilities\u001b[0m\u001b[1;33m.\u001b[0m\u001b[0mmake_plot\u001b[0m\u001b[1;33m(\u001b[0m\u001b[1;33m[\u001b[0m\u001b[1;36m1\u001b[0m\u001b[1;33m,\u001b[0m\u001b[1;36m2\u001b[0m\u001b[1;33m,\u001b[0m\u001b[1;36m3\u001b[0m\u001b[1;33m,\u001b[0m\u001b[1;36m4\u001b[0m\u001b[1;33m]\u001b[0m\u001b[1;33m,\u001b[0m\u001b[1;33m[\u001b[0m\u001b[1;36m1\u001b[0m\u001b[1;33m,\u001b[0m\u001b[1;36m2\u001b[0m\u001b[1;33m,\u001b[0m\u001b[1;36m3\u001b[0m\u001b[1;33m,\u001b[0m\u001b[1;36m4\u001b[0m\u001b[1;33m]\u001b[0m\u001b[1;33m,\u001b[0m\u001b[1;33m[\u001b[0m\u001b[1;36m1\u001b[0m\u001b[1;33m,\u001b[0m\u001b[1;36m2\u001b[0m\u001b[1;33m,\u001b[0m\u001b[1;36m3\u001b[0m\u001b[1;33m,\u001b[0m\u001b[1;36m4\u001b[0m\u001b[1;33m]\u001b[0m\u001b[1;33m,\u001b[0m\u001b[1;34m\"seconds\"\u001b[0m\u001b[1;33m,\u001b[0m\u001b[1;34m\"voltage\"\u001b[0m\u001b[1;33m,\u001b[0m\u001b[1;33m[\u001b[0m\u001b[1;34m\"phase A\"\u001b[0m\u001b[1;33m,\u001b[0m\u001b[1;34m\"phase B\"\u001b[0m\u001b[1;33m]\u001b[0m\u001b[1;33m)\u001b[0m\u001b[1;33m\u001b[0m\u001b[1;33m\u001b[0m\u001b[0m\n\u001b[0m",
      "\u001b[1;31mTypeError\u001b[0m: make_plot() takes 5 positional arguments but 6 were given"
     ]
    }
   ],
   "source": [
    "from utilities import Utilities\n",
    "\n",
    "Utilities.make_plot([1,2,3,4],[[1,2,3,4],[1,2,3,4]],\"seconds\",\"voltage\",[\"phase A\",\"phase B\"])"
   ]
  }
 ],
 "metadata": {
  "kernelspec": {
   "display_name": "Python 3.7.9 64-bit",
   "language": "python",
   "name": "python3"
  },
  "language_info": {
   "codemirror_mode": {
    "name": "ipython",
    "version": 3
   },
   "file_extension": ".py",
   "mimetype": "text/x-python",
   "name": "python",
   "nbconvert_exporter": "python",
   "pygments_lexer": "ipython3",
   "version": "3.7.9"
  },
  "orig_nbformat": 4,
  "vscode": {
   "interpreter": {
    "hash": "5109d816b82be14675a6b11f8e0f0d2e80f029176ed3710d54e125caa8520dfd"
   }
  }
 },
 "nbformat": 4,
 "nbformat_minor": 2
}
