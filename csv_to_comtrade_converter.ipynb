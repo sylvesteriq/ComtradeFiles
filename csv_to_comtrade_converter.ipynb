{
 "cells": [
  {
   "cell_type": "code",
   "execution_count": 8,
   "metadata": {},
   "outputs": [],
   "source": [
    "## csv to comtrade generator version 2\n",
    "## Here we down sample from 50000Hz to about 7143Hz\n",
    "\n",
    "\n",
    "import pandas as pd\n",
    "\n",
    "df = pd.read_csv(\"Iberdrola oscillations/Elspec CSV data/During Event 2_COMP_275kV TransT2_00e0_23_06_22_06_03_24_Waveform parameters.csv\")\n",
    "\n",
    "import matplotlib.pyplot as plt\n",
    "import math\n",
    "import numpy as np\n",
    "from scipy.fft import fft, fftfreq\n",
    "from comtradeConfig import ComtradeConfig\n",
    "from utilities import Utilities\n",
    "    \n",
    "\n",
    "def generate_cfg_contents_from_dataframe():\n",
    "    \n",
    "    multiplier_voltage = max(df['Waveform Phase V1N'])/10000\n",
    "    multiplier_current = max(df['Waveform Phase I1'])/1000\n",
    "\n",
    "    ## construct the data for config file\n",
    "    comtrade_cfg_data = []\n",
    "\n",
    "    comtrade_cfg_data.append(\",,\" + \"2022\")\n",
    "    comtrade_cfg_data.append(\"6,6A,0D\")\n",
    "    comtrade_cfg_data.append(\"1,v1,a,,V,\" + str(multiplier_voltage) + \",0,0,-32767,32767,1,1,p\")\n",
    "    comtrade_cfg_data.append(\"2,v2,b,,V,\" + str(multiplier_voltage) + \",0,0,-32767,32767,1,1,p\")\n",
    "    comtrade_cfg_data.append(\"3,v3,c,,V,\" + str(multiplier_voltage) + \",0,0,-32767,32767,1,1,p\")\n",
    "    comtrade_cfg_data.append(\"4,iq,a,,A,\" + str(multiplier_current) + \",0,0,-32767,32767,1,1,p\")\n",
    "    comtrade_cfg_data.append(\"5,iq,b,,A,\" + str(multiplier_current) + \",0,0,-32767,32767,1,1,p\")\n",
    "    comtrade_cfg_data.append(\"6,iq,c,,A,\" + str(multiplier_current) + \",0,0,-32767,32767,1,1,p\")\n",
    "\n",
    "    ## this assumes that the base signal is a 50hz signal\n",
    "    comtrade_cfg_data.append(str(50))\n",
    "    comtrade_cfg_data.append(\"1\")\n",
    "    comtrade_cfg_data.append(str(len()) + \",\" + str(len(df['Waveform Phase V1N'][0::7])))\n",
    "    comtrade_cfg_data.append(\"23/06/2022,13:29:59.998918\")\n",
    "    comtrade_cfg_data.append(\"23/06/2022,13:35:00.017571\")\n",
    "    comtrade_cfg_data.append(\"ASCII\")\n",
    "    comtrade_cfg_data.append(\"1\")\n",
    "    \n",
    "    return comtrade_cfg_data\n",
    "\n",
    "def write_cfg_to_file():\n",
    "    comtrade_cfg_data = generate_cfg_contents_from_dataframe()\n",
    "    f_cfg = open(\"Comtrade_from_csv_downsampled.cfg\",\"w\")\n",
    "    for cfg_line in comtrade_cfg_data:\n",
    "        f_cfg.write(cfg_line + \"\\n\")\n",
    "\n",
    "    f_cfg.close()\n",
    "\n",
    "\n",
    "## define the signal peaks\n",
    "\n",
    "write_cfg_to_file()\n",
    "\n",
    "def extract_data_into_array(dataframe):\n",
    "    data_array = []\n",
    "    for i in dataframe:\n",
    "        data_array.append(i)\n",
    "    return data_array\n",
    "    \n",
    "\n",
    "\n",
    "\n",
    "## function to compute and append data to dat file\n",
    "def write_dat_to_file():\n",
    "    f_dat = open(\"Comtrade_from_csv_downsampled.dat\",\"w\")\n",
    "    \n",
    "    multiplier_voltage = max(df['Waveform Phase V1N'])/10000\n",
    "    multiplier_current = max(df['Waveform Phase I1'])/1000\n",
    "\n",
    "    #### extract voltages and currents and store them in separate variables\n",
    "\n",
    "    voltage_v1 = extract_data_into_array(df['Waveform Phase V1N'])\n",
    "    voltage_v2 = extract_data_into_array(df['Waveform Phase V2N'])\n",
    "    voltage_v3 = extract_data_into_array(df['Waveform Phase V3N'])\n",
    "\n",
    "    current_i1 = extract_data_into_array(df['Waveform Phase I1'])\n",
    "    current_i2 = extract_data_into_array(df['Waveform Phase I2'])\n",
    "    current_i3 = extract_data_into_array(df['Waveform Phase I3'])\n",
    "\n",
    "    timestamp = extract_data_into_array(df['timestamp'])\n",
    "\n",
    "    ## Down sample voltages and currents\n",
    "\n",
    "    voltage_v1 = voltage_v1[::7]\n",
    "    voltage_v2 = voltage_v2[::7]\n",
    "    voltage_v3 = voltage_v3[::7]\n",
    "\n",
    "    current_i1 = current_i1[::7]\n",
    "    current_i2 = current_i2[::7]\n",
    "    current_i3 = current_i3[::7]\n",
    "\n",
    "    timestamp = timestamp[::7]\n",
    "\n",
    "    mega = 1000000\n",
    "\n",
    "    for i in np.arange(0,len(voltage_v1),1):\n",
    "\n",
    "        ##print(index,df['Waveform Phase V1N'][index],df['timestamp'][index])\n",
    "        f_dat.write(str(i) + \n",
    "                    \",\" + str(timestamp[i]*mega) + \n",
    "                    \",\" + str(round(voltage_v1[i]/multiplier_voltage)) + \n",
    "                    \",\" + str(round(voltage_v2[i]/multiplier_voltage)) + \n",
    "                    \",\" + str(round(voltage_v3[i]/multiplier_voltage)) + \n",
    "                    \",\" + str(round(current_i1[i]/multiplier_current)) +\n",
    "                    \",\" + str(round(current_i2[i]/multiplier_current)) + \n",
    "                    \",\" + str(round(current_i3[i]/multiplier_current)) + \"\\n\")\n",
    "        \n",
    "    f_dat.close()\n",
    "    \n",
    "write_dat_to_file()"
   ]
  },
  {
   "cell_type": "code",
   "execution_count": 1,
   "metadata": {},
   "outputs": [],
   "source": [
    "from comtradeConfig import ComtradeConfig\n",
    "\n",
    "import pandas as pd\n",
    "\n",
    "df = pd.read_csv(\"Iberdrola oscillations/Elspec CSV data/During Event 2_COMP_275kV TransT2_00e0_23_06_22_06_03_24_Waveform parameters.csv\")\n",
    "\n",
    "config = ComtradeConfig()\n",
    "voltage = config.extract_data_into_array(df['Waveform Phase V1N'])"
   ]
  },
  {
   "cell_type": "code",
   "execution_count": 1,
   "metadata": {},
   "outputs": [
    {
     "data": {
      "text/plain": [
       "4000"
      ]
     },
     "execution_count": 1,
     "metadata": {},
     "output_type": "execute_result"
    }
   ],
   "source": [
    "from comtradeConfig import ComtradeConfig\n",
    "\n",
    "ComtradeConfig.sampling_rate()"
   ]
  },
  {
   "cell_type": "code",
   "execution_count": 1,
   "metadata": {},
   "outputs": [
    {
     "data": {
      "text/plain": [
       "120"
      ]
     },
     "execution_count": 1,
     "metadata": {},
     "output_type": "execute_result"
    }
   ],
   "source": [
    "### A test to check that I can call a static method within another static method in the Utilities class\n",
    "from utilities import Utilities\n",
    "Utilities.method_to_test_within_class_call()"
   ]
  }
 ],
 "metadata": {
  "kernelspec": {
   "display_name": "Python 3.7.9 64-bit",
   "language": "python",
   "name": "python3"
  },
  "language_info": {
   "codemirror_mode": {
    "name": "ipython",
    "version": 3
   },
   "file_extension": ".py",
   "mimetype": "text/x-python",
   "name": "python",
   "nbconvert_exporter": "python",
   "pygments_lexer": "ipython3",
   "version": "3.7.9"
  },
  "orig_nbformat": 4,
  "vscode": {
   "interpreter": {
    "hash": "5109d816b82be14675a6b11f8e0f0d2e80f029176ed3710d54e125caa8520dfd"
   }
  }
 },
 "nbformat": 4,
 "nbformat_minor": 2
}
