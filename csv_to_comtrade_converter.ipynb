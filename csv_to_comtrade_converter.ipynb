{
 "cells": [
  {
   "cell_type": "code",
   "execution_count": 37,
   "metadata": {},
   "outputs": [
    {
     "data": {
      "text/plain": [
       "261058"
      ]
     },
     "execution_count": 37,
     "metadata": {},
     "output_type": "execute_result"
    }
   ],
   "source": [
    "#Read CSV\n",
    "import csv\n",
    "\n",
    "\n",
    "##csv_handler = csv.reader(\"Iberdrola oscillations/Elspec CSV data/During Event 1_COMP_275kV TransT1_f282_23_06_22_02_15_40_Waveform parameters.csv\")\n",
    "\n",
    "file = open(\"Iberdrola oscillations/Elspec CSV data/During Event 2_COMP_275kV TransT2_00e0_23_06_22_06_03_24_Waveform parameters.csv\")\n",
    "\n",
    "csvreader = csv.reader(file)\n",
    "\n",
    "header = []\n",
    "\n",
    "\n",
    "#header.append(next(csvreader))\n",
    "\n",
    "#header.append(next(csvreader))\n",
    "\n",
    "#header[0][0]\n",
    "\n",
    "for x in csvreader:\n",
    "    header.append(x)\n",
    "\n",
    "len(header)\n",
    "\n"
   ]
  },
  {
   "cell_type": "code",
   "execution_count": 17,
   "metadata": {},
   "outputs": [
    {
     "data": {
      "text/plain": [
       "['23/06/2022 02:15:39:949987AM',\n",
       " '-208513.2',\n",
       " '22703.95',\n",
       " '186746.3',\n",
       " '-164.3485',\n",
       " '2.347749',\n",
       " '-1.242826',\n",
       " '0.9666802',\n",
       " '3.452333']"
      ]
     },
     "execution_count": 17,
     "metadata": {},
     "output_type": "execute_result"
    }
   ],
   "source": [
    "header[1] \n",
    "datetimetext_csv = header[0][0]\n",
    "voltage_va_name = header[0][1]\n",
    "voltage_vb_name = header[0][2]\n",
    "voltage_vc_name = header[0][3]\n",
    "current_va_name = header[0][5]\n",
    "current_vb_name = header[0][6]\n",
    "current_vc_name = header[0][7]\n",
    "\n",
    "df = {\n",
    "    datetimetext_csv: \n",
    "}"
   ]
  },
  {
   "cell_type": "code",
   "execution_count": 4,
   "metadata": {},
   "outputs": [],
   "source": [
    "import pandas as pd\n",
    "\n",
    "df = pd.read_csv(\"Iberdrola oscillations/Elspec CSV data/During Event 2_COMP_275kV TransT2_00e0_23_06_22_06_03_24_Waveform parameters.csv\")"
   ]
  },
  {
   "cell_type": "code",
   "execution_count": 56,
   "metadata": {},
   "outputs": [
    {
     "data": {
      "text/plain": [
       "0        -1.016541\n",
       "1        -0.664984\n",
       "2        -0.307259\n",
       "3         0.055655\n",
       "4         0.422476\n",
       "            ...   \n",
       "261052    3.038282\n",
       "261053    3.038282\n",
       "261054    3.038282\n",
       "261055    3.038282\n",
       "261056    3.038282\n",
       "Name: Waveform Phase I2, Length: 261057, dtype: float64"
      ]
     },
     "execution_count": 56,
     "metadata": {},
     "output_type": "execute_result"
    }
   ],
   "source": [
    "df['Waveform Phase V1N']\n",
    "df['Waveform Phase V2N']\n",
    "df['Waveform Phase V3N']\n",
    "df['Waveform Phase I1']\n",
    "df['Waveform Phase I2']\n",
    "df['Waveform Phase I3']\n",
    "\n"
   ]
  },
  {
   "cell_type": "code",
   "execution_count": 8,
   "metadata": {},
   "outputs": [],
   "source": [
    "## csv to comtrade generator version 2\n",
    "## Here we down sample from 50000Hz to about 7143Hz\n",
    "\n",
    "import matplotlib.pyplot as plt\n",
    "import math\n",
    "import numpy as np\n",
    "from scipy.fft import fft, fftfreq\n",
    "from comtradeConfig import ComtradeConfig\n",
    "    \n",
    "    \n",
    "def generate_data_cfg():\n",
    "    \n",
    "\n",
    "    multiplier_voltage = max(df['Waveform Phase V1N'])/10000\n",
    "    multiplier_current = max(df['Waveform Phase I1'])/1000\n",
    "\n",
    "    ## construct the data for config file\n",
    "    comtrade_cfg_data = []\n",
    "\n",
    "    comtrade_cfg_data.append(\",,\" + \"2022\")\n",
    "    comtrade_cfg_data.append(\"6,6A,0D\")\n",
    "    comtrade_cfg_data.append(\"1,v1,a,,V,\" + str(multiplier_voltage) + \",0,0,-32767,32767,1,1,p\")\n",
    "    comtrade_cfg_data.append(\"2,v2,b,,V,\" + str(multiplier_voltage) + \",0,0,-32767,32767,1,1,p\")\n",
    "    comtrade_cfg_data.append(\"3,v3,c,,V,\" + str(multiplier_voltage) + \",0,0,-32767,32767,1,1,p\")\n",
    "    comtrade_cfg_data.append(\"4,iq,a,,A,\" + str(multiplier_current) + \",0,0,-32767,32767,1,1,p\")\n",
    "    comtrade_cfg_data.append(\"5,iq,b,,A,\" + str(multiplier_current) + \",0,0,-32767,32767,1,1,p\")\n",
    "    comtrade_cfg_data.append(\"6,iq,c,,A,\" + str(multiplier_current) + \",0,0,-32767,32767,1,1,p\")\n",
    "    comtrade_cfg_data.append(str(50))\n",
    "    comtrade_cfg_data.append(\"1\")\n",
    "    comtrade_cfg_data.append(str(7142) + \",\" + str(len(df['Waveform Phase V1N'][0::7])))\n",
    "    comtrade_cfg_data.append(\"23/06/2022,13:29:59.998918\")\n",
    "    comtrade_cfg_data.append(\"23/06/2022,13:35:00.017571\")\n",
    "    comtrade_cfg_data.append(\"ASCII\")\n",
    "    comtrade_cfg_data.append(\"1\")\n",
    "    \n",
    "    return comtrade_cfg_data\n",
    "\n",
    "def write_cfg_to_file():\n",
    "    comtrade_cfg_data = generate_data_cfg()\n",
    "    f_cfg = open(\"Comtrade_from_csv_downsampled.cfg\",\"w\")\n",
    "    for cfg_line in comtrade_cfg_data:\n",
    "        f_cfg.write(cfg_line + \"\\n\")\n",
    "\n",
    "    f_cfg.close()\n",
    "\n",
    "\n",
    "## define the signal peaks\n",
    "\n",
    "write_cfg_to_file()\n",
    "\n",
    "def extract_data_into_array(dataframe):\n",
    "    data_array = []\n",
    "    for i in dataframe:\n",
    "        data_array.append(i)\n",
    "    return data_array\n",
    "    \n",
    "\n",
    "\n",
    "\n",
    "## function to compute and append data to dat file\n",
    "def write_dat_to_file():\n",
    "    f_dat = open(\"Comtrade_from_csv_downsampled.dat\",\"w\")\n",
    "    \n",
    "    multiplier_voltage = max(df['Waveform Phase V1N'])/10000\n",
    "    multiplier_current = max(df['Waveform Phase I1'])/1000\n",
    "\n",
    "    #### extract voltages and currents and store them in separate variables\n",
    "\n",
    "    voltage_v1 = extract_data_into_array(df['Waveform Phase V1N'])\n",
    "    voltage_v2 = extract_data_into_array(df['Waveform Phase V2N'])\n",
    "    voltage_v3 = extract_data_into_array(df['Waveform Phase V3N'])\n",
    "\n",
    "    current_i1 = extract_data_into_array(df['Waveform Phase I1'])\n",
    "    current_i2 = extract_data_into_array(df['Waveform Phase I2'])\n",
    "    current_i3 = extract_data_into_array(df['Waveform Phase I3'])\n",
    "\n",
    "    timestamp = extract_data_into_array(df['timestamp'])\n",
    "\n",
    "    ## Down sample voltages and currents\n",
    "\n",
    "    voltage_v1 = voltage_v1[::7]\n",
    "    voltage_v2 = voltage_v2[::7]\n",
    "    voltage_v3 = voltage_v3[::7]\n",
    "\n",
    "    current_i1 = current_i1[::7]\n",
    "    current_i2 = current_i2[::7]\n",
    "    current_i3 = current_i3[::7]\n",
    "\n",
    "    timestamp = timestamp[::7]\n",
    "\n",
    "    mega = 1000000\n",
    "\n",
    "    for i in np.arange(0,len(voltage_v1),1):\n",
    "\n",
    "        ##print(index,df['Waveform Phase V1N'][index],df['timestamp'][index])\n",
    "        f_dat.write(str(i) + \n",
    "                    \",\" + str(timestamp[i]*mega) + \n",
    "                    \",\" + str(round(voltage_v1[i]/multiplier_voltage)) + \n",
    "                    \",\" + str(round(voltage_v2[i]/multiplier_voltage)) + \n",
    "                    \",\" + str(round(voltage_v3[i]/multiplier_voltage)) + \n",
    "                    \",\" + str(round(current_i1[i]/multiplier_current)) +\n",
    "                    \",\" + str(round(current_i2[i]/multiplier_current)) + \n",
    "                    \",\" + str(round(current_i3[i]/multiplier_current)) + \"\\n\")\n",
    "        \n",
    "    f_dat.close()\n",
    "    \n",
    "write_dat_to_file()"
   ]
  },
  {
   "cell_type": "code",
   "execution_count": 1,
   "metadata": {},
   "outputs": [],
   "source": [
    "from comtradeConfig import ComtradeConfig\n",
    "\n",
    "import pandas as pd\n",
    "\n",
    "df = pd.read_csv(\"Iberdrola oscillations/Elspec CSV data/During Event 2_COMP_275kV TransT2_00e0_23_06_22_06_03_24_Waveform parameters.csv\")\n",
    "\n",
    "config = ComtradeConfig()\n",
    "voltage = config.extract_data_into_array(df['Waveform Phase V1N'])"
   ]
  },
  {
   "cell_type": "code",
   "execution_count": 1,
   "metadata": {},
   "outputs": [
    {
     "data": {
      "text/plain": [
       "4000"
      ]
     },
     "execution_count": 1,
     "metadata": {},
     "output_type": "execute_result"
    }
   ],
   "source": [
    "from comtradeConfig import ComtradeConfig\n",
    "\n",
    "ComtradeConfig.sampling_rate()"
   ]
  },
  {
   "cell_type": "code",
   "execution_count": 28,
   "metadata": {},
   "outputs": [
    {
     "data": {
      "text/plain": [
       "[<matplotlib.lines.Line2D at 0x21dba62ab88>]"
      ]
     },
     "execution_count": 28,
     "metadata": {},
     "output_type": "execute_result"
    },
    {
     "data": {
      "image/png": "[encoded data removed]",
      "text/plain": [
       "<Figure size 432x288 with 1 Axes>"
      ]
     },
     "metadata": {
      "needs_background": "light"
     },
     "output_type": "display_data"
    }
   ],
   "source": [
    "plt.plot(df_2['timestamp'],df_2['Waveform Phase I1'])"
   ]
  },
  {
   "cell_type": "code",
   "execution_count": 29,
   "metadata": {},
   "outputs": [
    {
     "data": {
      "text/plain": [
       "[<matplotlib.lines.Line2D at 0x21dbac2ba88>]"
      ]
     },
     "execution_count": 29,
     "metadata": {},
     "output_type": "execute_result"
    },
    {
     "data": {
      "image/png": "[encoded data removed]",
      "text/plain": [
       "<Figure size 432x288 with 1 Axes>"
      ]
     },
     "metadata": {
      "needs_background": "light"
     },
     "output_type": "display_data"
    }
   ],
   "source": [
    "plt.plot(df['timestamp'],df['Waveform Phase I1'])"
   ]
  },
  {
   "cell_type": "code",
   "execution_count": 30,
   "metadata": {},
   "outputs": [
    {
     "data": {
      "text/plain": [
       "[<matplotlib.lines.Line2D at 0x21dbf1f4b88>]"
      ]
     },
     "execution_count": 30,
     "metadata": {},
     "output_type": "execute_result"
    },
    {
     "data": {
      "image/png": "[encoded data removed]",
      "text/plain": [
       "<Figure size 432x288 with 1 Axes>"
      ]
     },
     "metadata": {
      "needs_background": "light"
     },
     "output_type": "display_data"
    }
   ],
   "source": [
    "plt.plot(df_2['timestamp'],df_2['Waveform Phase V1N'])"
   ]
  },
  {
   "cell_type": "code",
   "execution_count": 31,
   "metadata": {},
   "outputs": [
    {
     "data": {
      "text/plain": [
       "[<matplotlib.lines.Line2D at 0x21dbf26dfc8>]"
      ]
     },
     "execution_count": 31,
     "metadata": {},
     "output_type": "execute_result"
    },
    {
     "data": {
      "image/png": "[encoded data removed]",
      "text/plain": [
       "<Figure size 432x288 with 1 Axes>"
      ]
     },
     "metadata": {
      "needs_background": "light"
     },
     "output_type": "display_data"
    }
   ],
   "source": [
    "plt.plot(df['timestamp'],df['Waveform Phase V1N'])"
   ]
  },
  {
   "cell_type": "code",
   "execution_count": 20,
   "metadata": {},
   "outputs": [],
   "source": [
    "df_3 = df.iloc[::7]"
   ]
  },
  {
   "cell_type": "code",
   "execution_count": 27,
   "metadata": {},
   "outputs": [
    {
     "data": {
      "text/html": [
       "<div>\n",
       "<style scoped>\n",
       "    .dataframe tbody tr th:only-of-type {\n",
       "        vertical-align: middle;\n",
       "    }\n",
       "\n",
       "    .dataframe tbody tr th {\n",
       "        vertical-align: top;\n",
       "    }\n",
       "\n",
       "    .dataframe thead th {\n",
       "        text-align: right;\n",
       "    }\n",
       "</style>\n",
       "<table border=\"1\" class=\"dataframe\">\n",
       "  <thead>\n",
       "    <tr style=\"text-align: right;\">\n",
       "      <th></th>\n",
       "      <th>Date</th>\n",
       "      <th>h</th>\n",
       "      <th>m</th>\n",
       "      <th>s</th>\n",
       "      <th>us</th>\n",
       "      <th>s.1</th>\n",
       "      <th>timestamp</th>\n",
       "      <th>Waveform Phase V1N</th>\n",
       "      <th>Waveform Phase V2N</th>\n",
       "      <th>Waveform Phase V3N</th>\n",
       "      <th>Waveform Phase I1</th>\n",
       "      <th>Waveform Phase I2</th>\n",
       "      <th>Waveform Phase I3</th>\n",
       "      <th>Unnamed: 13</th>\n",
       "      <th>Waveform Phase IN</th>\n",
       "      <th>Waveform Phase VN</th>\n",
       "    </tr>\n",
       "  </thead>\n",
       "  <tbody>\n",
       "    <tr>\n",
       "      <th>0</th>\n",
       "      <td>23/06/2022</td>\n",
       "      <td>6</td>\n",
       "      <td>3</td>\n",
       "      <td>23</td>\n",
       "      <td>949993AM</td>\n",
       "      <td>23.949993</td>\n",
       "      <td>0.000000</td>\n",
       "      <td>96405.55</td>\n",
       "      <td>-226967.20000</td>\n",
       "      <td>130206.4000</td>\n",
       "      <td>44.435770</td>\n",
       "      <td>-1.016541</td>\n",
       "      <td>-38.211380</td>\n",
       "      <td>NaN</td>\n",
       "      <td>-2.527464</td>\n",
       "      <td>-147.45170</td>\n",
       "    </tr>\n",
       "    <tr>\n",
       "      <th>7</th>\n",
       "      <td>23/06/2022</td>\n",
       "      <td>6</td>\n",
       "      <td>3</td>\n",
       "      <td>23</td>\n",
       "      <td>950130AM</td>\n",
       "      <td>23.950130</td>\n",
       "      <td>0.000137</td>\n",
       "      <td>104929.10</td>\n",
       "      <td>-228100.50000</td>\n",
       "      <td>122496.5000</td>\n",
       "      <td>42.036100</td>\n",
       "      <td>1.529577</td>\n",
       "      <td>-38.341630</td>\n",
       "      <td>NaN</td>\n",
       "      <td>-2.478167</td>\n",
       "      <td>-619.00750</td>\n",
       "    </tr>\n",
       "    <tr>\n",
       "      <th>14</th>\n",
       "      <td>23/06/2022</td>\n",
       "      <td>6</td>\n",
       "      <td>3</td>\n",
       "      <td>23</td>\n",
       "      <td>950267AM</td>\n",
       "      <td>23.950267</td>\n",
       "      <td>0.000274</td>\n",
       "      <td>113247.60</td>\n",
       "      <td>-228794.70000</td>\n",
       "      <td>114553.5000</td>\n",
       "      <td>40.662630</td>\n",
       "      <td>3.878748</td>\n",
       "      <td>-38.363170</td>\n",
       "      <td>NaN</td>\n",
       "      <td>-2.431176</td>\n",
       "      <td>-119.46970</td>\n",
       "    </tr>\n",
       "    <tr>\n",
       "      <th>21</th>\n",
       "      <td>23/06/2022</td>\n",
       "      <td>6</td>\n",
       "      <td>3</td>\n",
       "      <td>23</td>\n",
       "      <td>950403AM</td>\n",
       "      <td>23.950403</td>\n",
       "      <td>0.000410</td>\n",
       "      <td>121364.10</td>\n",
       "      <td>-229018.60000</td>\n",
       "      <td>106362.1000</td>\n",
       "      <td>39.536590</td>\n",
       "      <td>5.401902</td>\n",
       "      <td>-38.459170</td>\n",
       "      <td>NaN</td>\n",
       "      <td>-2.386579</td>\n",
       "      <td>1368.57000</td>\n",
       "    </tr>\n",
       "    <tr>\n",
       "      <th>28</th>\n",
       "      <td>23/06/2022</td>\n",
       "      <td>6</td>\n",
       "      <td>3</td>\n",
       "      <td>23</td>\n",
       "      <td>950540AM</td>\n",
       "      <td>23.950540</td>\n",
       "      <td>0.000547</td>\n",
       "      <td>129266.30</td>\n",
       "      <td>-228765.60000</td>\n",
       "      <td>97938.9500</td>\n",
       "      <td>37.484100</td>\n",
       "      <td>6.124660</td>\n",
       "      <td>-38.709470</td>\n",
       "      <td>NaN</td>\n",
       "      <td>-2.344457</td>\n",
       "      <td>-1231.85200</td>\n",
       "    </tr>\n",
       "    <tr>\n",
       "      <th>...</th>\n",
       "      <td>...</td>\n",
       "      <td>...</td>\n",
       "      <td>...</td>\n",
       "      <td>...</td>\n",
       "      <td>...</td>\n",
       "      <td>...</td>\n",
       "      <td>...</td>\n",
       "      <td>...</td>\n",
       "      <td>...</td>\n",
       "      <td>...</td>\n",
       "      <td>...</td>\n",
       "      <td>...</td>\n",
       "      <td>...</td>\n",
       "      <td>...</td>\n",
       "      <td>...</td>\n",
       "      <td>...</td>\n",
       "    </tr>\n",
       "    <tr>\n",
       "      <th>261023</th>\n",
       "      <td>23/06/2022</td>\n",
       "      <td>6</td>\n",
       "      <td>3</td>\n",
       "      <td>29</td>\n",
       "      <td>049349AM</td>\n",
       "      <td>29.049349</td>\n",
       "      <td>5.099356</td>\n",
       "      <td>0.00</td>\n",
       "      <td>54.73823</td>\n",
       "      <td>-273.9588</td>\n",
       "      <td>4.971643</td>\n",
       "      <td>3.038282</td>\n",
       "      <td>-0.414051</td>\n",
       "      <td>NaN</td>\n",
       "      <td>-3.728816</td>\n",
       "      <td>1087.12200</td>\n",
       "    </tr>\n",
       "    <tr>\n",
       "      <th>261030</th>\n",
       "      <td>23/06/2022</td>\n",
       "      <td>6</td>\n",
       "      <td>3</td>\n",
       "      <td>29</td>\n",
       "      <td>049486AM</td>\n",
       "      <td>29.049486</td>\n",
       "      <td>5.099493</td>\n",
       "      <td>0.00</td>\n",
       "      <td>54.73823</td>\n",
       "      <td>-273.9588</td>\n",
       "      <td>4.971643</td>\n",
       "      <td>3.038282</td>\n",
       "      <td>-0.414051</td>\n",
       "      <td>NaN</td>\n",
       "      <td>-3.728816</td>\n",
       "      <td>-817.71210</td>\n",
       "    </tr>\n",
       "    <tr>\n",
       "      <th>261037</th>\n",
       "      <td>23/06/2022</td>\n",
       "      <td>6</td>\n",
       "      <td>3</td>\n",
       "      <td>29</td>\n",
       "      <td>049623AM</td>\n",
       "      <td>29.049623</td>\n",
       "      <td>5.099630</td>\n",
       "      <td>0.00</td>\n",
       "      <td>54.73823</td>\n",
       "      <td>-273.9588</td>\n",
       "      <td>4.971643</td>\n",
       "      <td>3.038282</td>\n",
       "      <td>-0.414051</td>\n",
       "      <td>NaN</td>\n",
       "      <td>-3.728816</td>\n",
       "      <td>-30.58445</td>\n",
       "    </tr>\n",
       "    <tr>\n",
       "      <th>261044</th>\n",
       "      <td>23/06/2022</td>\n",
       "      <td>6</td>\n",
       "      <td>3</td>\n",
       "      <td>29</td>\n",
       "      <td>049759AM</td>\n",
       "      <td>29.049759</td>\n",
       "      <td>5.099766</td>\n",
       "      <td>0.00</td>\n",
       "      <td>54.73823</td>\n",
       "      <td>-273.9588</td>\n",
       "      <td>4.971643</td>\n",
       "      <td>3.038282</td>\n",
       "      <td>-0.414051</td>\n",
       "      <td>NaN</td>\n",
       "      <td>-3.728816</td>\n",
       "      <td>91.68871</td>\n",
       "    </tr>\n",
       "    <tr>\n",
       "      <th>261051</th>\n",
       "      <td>23/06/2022</td>\n",
       "      <td>6</td>\n",
       "      <td>3</td>\n",
       "      <td>29</td>\n",
       "      <td>049896AM</td>\n",
       "      <td>29.049896</td>\n",
       "      <td>5.099903</td>\n",
       "      <td>0.00</td>\n",
       "      <td>54.73823</td>\n",
       "      <td>-273.9588</td>\n",
       "      <td>4.971643</td>\n",
       "      <td>3.038282</td>\n",
       "      <td>-0.414051</td>\n",
       "      <td>NaN</td>\n",
       "      <td>-3.728816</td>\n",
       "      <td>-567.62790</td>\n",
       "    </tr>\n",
       "  </tbody>\n",
       "</table>\n",
       "<p>37294 rows × 16 columns</p>\n",
       "</div>"
      ],
      "text/plain": [
       "              Date  h  m   s        us        s.1  timestamp  \\\n",
       "0       23/06/2022  6  3  23  949993AM  23.949993   0.000000   \n",
       "7       23/06/2022  6  3  23  950130AM  23.950130   0.000137   \n",
       "14      23/06/2022  6  3  23  950267AM  23.950267   0.000274   \n",
       "21      23/06/2022  6  3  23  950403AM  23.950403   0.000410   \n",
       "28      23/06/2022  6  3  23  950540AM  23.950540   0.000547   \n",
       "...            ... .. ..  ..       ...        ...        ...   \n",
       "261023  23/06/2022  6  3  29  049349AM  29.049349   5.099356   \n",
       "261030  23/06/2022  6  3  29  049486AM  29.049486   5.099493   \n",
       "261037  23/06/2022  6  3  29  049623AM  29.049623   5.099630   \n",
       "261044  23/06/2022  6  3  29  049759AM  29.049759   5.099766   \n",
       "261051  23/06/2022  6  3  29  049896AM  29.049896   5.099903   \n",
       "\n",
       "        Waveform Phase V1N  Waveform Phase V2N  Waveform Phase V3N  \\\n",
       "0                 96405.55       -226967.20000         130206.4000   \n",
       "7                104929.10       -228100.50000         122496.5000   \n",
       "14               113247.60       -228794.70000         114553.5000   \n",
       "21               121364.10       -229018.60000         106362.1000   \n",
       "28               129266.30       -228765.60000          97938.9500   \n",
       "...                    ...                 ...                 ...   \n",
       "261023                0.00            54.73823           -273.9588   \n",
       "261030                0.00            54.73823           -273.9588   \n",
       "261037                0.00            54.73823           -273.9588   \n",
       "261044                0.00            54.73823           -273.9588   \n",
       "261051                0.00            54.73823           -273.9588   \n",
       "\n",
       "        Waveform Phase I1  Waveform Phase I2  Waveform Phase I3  Unnamed: 13  \\\n",
       "0               44.435770          -1.016541         -38.211380          NaN   \n",
       "7               42.036100           1.529577         -38.341630          NaN   \n",
       "14              40.662630           3.878748         -38.363170          NaN   \n",
       "21              39.536590           5.401902         -38.459170          NaN   \n",
       "28              37.484100           6.124660         -38.709470          NaN   \n",
       "...                   ...                ...                ...          ...   \n",
       "261023           4.971643           3.038282          -0.414051          NaN   \n",
       "261030           4.971643           3.038282          -0.414051          NaN   \n",
       "261037           4.971643           3.038282          -0.414051          NaN   \n",
       "261044           4.971643           3.038282          -0.414051          NaN   \n",
       "261051           4.971643           3.038282          -0.414051          NaN   \n",
       "\n",
       "        Waveform Phase IN  Waveform Phase VN  \n",
       "0               -2.527464         -147.45170  \n",
       "7               -2.478167         -619.00750  \n",
       "14              -2.431176         -119.46970  \n",
       "21              -2.386579         1368.57000  \n",
       "28              -2.344457        -1231.85200  \n",
       "...                   ...                ...  \n",
       "261023          -3.728816         1087.12200  \n",
       "261030          -3.728816         -817.71210  \n",
       "261037          -3.728816          -30.58445  \n",
       "261044          -3.728816           91.68871  \n",
       "261051          -3.728816         -567.62790  \n",
       "\n",
       "[37294 rows x 16 columns]"
      ]
     },
     "execution_count": 27,
     "metadata": {},
     "output_type": "execute_result"
    }
   ],
   "source": [
    "df_3"
   ]
  },
  {
   "cell_type": "code",
   "execution_count": 9,
   "metadata": {},
   "outputs": [
    {
     "data": {
      "text/plain": [
       "261057"
      ]
     },
     "execution_count": 9,
     "metadata": {},
     "output_type": "execute_result"
    }
   ],
   "source": [
    "df_2['Waveform Phase V1N'][0:10]\n",
    "len(df)"
   ]
  },
  {
   "cell_type": "code",
   "execution_count": null,
   "metadata": {},
   "outputs": [],
   "source": [
    "### A test to check that I can call a static method within another static method in the Utilities class\n"
   ]
  }
 ],
 "metadata": {
  "kernelspec": {
   "display_name": "Python 3.7.9 64-bit",
   "language": "python",
   "name": "python3"
  },
  "language_info": {
   "codemirror_mode": {
    "name": "ipython",
    "version": 3
   },
   "file_extension": ".py",
   "mimetype": "text/x-python",
   "name": "python",
   "nbconvert_exporter": "python",
   "pygments_lexer": "ipython3",
   "version": "3.7.9"
  },
  "orig_nbformat": 4,
  "vscode": {
   "interpreter": {
    "hash": "5109d816b82be14675a6b11f8e0f0d2e80f029176ed3710d54e125caa8520dfd"
   }
  }
 },
 "nbformat": 4,
 "nbformat_minor": 2
}
